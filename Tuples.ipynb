{
 "cells": [
  {
   "cell_type": "code",
   "execution_count": null,
   "id": "60c76fc0-451d-4005-9613-602ed60c06ce",
   "metadata": {},
   "outputs": [],
   "source": [
    "'''\n",
    "\n",
    "Name: Jose Garcia\n",
    "Class: CSC106\n",
    "HW#: Homework 3\n",
    "QN: 1\n",
    "Date: 09/20/2023\n",
    "\n",
    "'''"
   ]
  },
  {
   "cell_type": "code",
   "execution_count": 3,
   "id": "758ee5e5-fe91-422a-832e-930cfb3f9d33",
   "metadata": {},
   "outputs": [],
   "source": [
    "Numbers = (1.0, 9.9, 10)\n"
   ]
  },
  {
   "cell_type": "code",
   "execution_count": 20,
   "id": "452c4fec-8232-41eb-b1cd-5111d3a2f129",
   "metadata": {},
   "outputs": [
    {
     "name": "stdout",
     "output_type": "stream",
     "text": [
      "Tobin\n"
     ]
    },
    {
     "data": {
      "text/plain": [
       "str"
      ]
     },
     "execution_count": 20,
     "metadata": {},
     "output_type": "execute_result"
    }
   ],
   "source": [
    "Student_Names= ('Tobin')\n",
    "print(Student_Names)\n",
    "type(Student_Names)\n",
    "type(Student_Names[0])"
   ]
  },
  {
   "cell_type": "code",
   "execution_count": 35,
   "id": "c0fdc9ee-1463-482d-ac1c-0684aa216966",
   "metadata": {},
   "outputs": [
    {
     "name": "stdout",
     "output_type": "stream",
     "text": [
      "('Jose Garcia', 'CSC106', '#1', '#1', '100%', '09/18/2023')\n"
     ]
    },
    {
     "ename": "TypeError",
     "evalue": "'tuple' object does not support item assignment",
     "output_type": "error",
     "traceback": [
      "\u001b[0;31m---------------------------------------------------------------------------\u001b[0m",
      "\u001b[0;31mTypeError\u001b[0m                                 Traceback (most recent call last)",
      "Cell \u001b[0;32mIn[35], line 8\u001b[0m\n\u001b[1;32m      6\u001b[0m \u001b[38;5;28mprint\u001b[39m(Student_ID)\n\u001b[1;32m      7\u001b[0m \u001b[38;5;28mtype\u001b[39m(Student_ID[\u001b[38;5;241m2\u001b[39m])\n\u001b[0;32m----> 8\u001b[0m \u001b[43mStudent_ID\u001b[49m\u001b[43m[\u001b[49m\u001b[38;5;241;43m0\u001b[39;49m\u001b[43m]\u001b[49m \u001b[38;5;241m=\u001b[39m \u001b[38;5;124m'\u001b[39m\u001b[38;5;124mTobin\u001b[39m\u001b[38;5;124m'\u001b[39m\n",
      "\u001b[0;31mTypeError\u001b[0m: 'tuple' object does not support item assignment"
     ]
    }
   ],
   "source": [
    "Homework = '#1'\n",
    "Question = '#1'\n",
    "Grade = '100%'\n",
    "Date = '09/18/2023'\n",
    "Student_ID= ('Jose Garcia', 'CSC106', Homework, Question, Grade, Date)\n",
    "print(Student_ID)\n",
    "type(Student_ID[2])\n",
    "Student_ID[0] = 'Tobin'"
   ]
  },
  {
   "cell_type": "code",
   "execution_count": 2,
   "id": "67f3ed21-d402-49fd-84cc-0f0a3c4d801d",
   "metadata": {},
   "outputs": [
    {
     "name": "stdout",
     "output_type": "stream",
     "text": [
      "[0, [1, 2, 3], (4, 5, 6), 7.0]\n"
     ]
    },
    {
     "data": {
      "text/plain": [
       "2"
      ]
     },
     "execution_count": 2,
     "metadata": {},
     "output_type": "execute_result"
    }
   ],
   "source": [
    "tuple_A = (0, [1, 2, 3], (4, 5, 6), 7.0)\n",
    "type(tuple_A[1])\n",
    "list_name = list(tuple_A)\n",
    "print(list_name)\n",
    "list_name[1][1]"
   ]
  }
 ],
 "metadata": {
  "kernelspec": {
   "display_name": "Python 3 (ipykernel)",
   "language": "python",
   "name": "python3"
  },
  "language_info": {
   "codemirror_mode": {
    "name": "ipython",
    "version": 3
   },
   "file_extension": ".py",
   "mimetype": "text/x-python",
   "name": "python",
   "nbconvert_exporter": "python",
   "pygments_lexer": "ipython3",
   "version": "3.10.12"
  }
 },
 "nbformat": 4,
 "nbformat_minor": 5
}
