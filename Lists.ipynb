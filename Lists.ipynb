{
 "cells": [
  {
   "cell_type": "code",
   "execution_count": null,
   "id": "bca8c746-5e39-4d1b-a081-060c77933bef",
   "metadata": {},
   "outputs": [],
   "source": [
    "'''\n",
    "\n",
    "Name: Jose Garcia\n",
    "Class: CSC106\n",
    "HW#: Homework 3\n",
    "QN: 1\n",
    "Date: 09/20/2023\n",
    "\n",
    "'''"
   ]
  },
  {
   "cell_type": "code",
   "execution_count": 9,
   "id": "3839ead1-14f9-491e-a333-21953f3a56b9",
   "metadata": {},
   "outputs": [
    {
     "data": {
      "text/plain": [
       "list"
      ]
     },
     "execution_count": 9,
     "metadata": {},
     "output_type": "execute_result"
    }
   ],
   "source": [
    "numbers = [1, 2, 3, 4, 5, 6, 7, 8, 9]\n",
    "numbers2 = [1, 3, 5, 6, 7, 9]\n",
    "type(numbers2)"
   ]
  },
  {
   "cell_type": "code",
   "execution_count": 2,
   "id": "adba7d4c-cfe5-4dc8-b09b-665f897ab4df",
   "metadata": {},
   "outputs": [
    {
     "name": "stdout",
     "output_type": "stream",
     "text": [
      "['Jose Garcia', 'CSC106', 1, 1, 'A', '20/09/2023']\n"
     ]
    }
   ],
   "source": [
    "Homework = 1\n",
    "Question = 1\n",
    "Grade = 'B'\n",
    "Date = '20/09/2023'\n",
    "Student_ID = ['Jose Garcia', 'CSC106', Homework, Question, Grade, Date]\n",
    "Student_ID[4] = 'A'\n",
    "Student_ID.append('School')\n",
    "Student_ID.insert(1, '289580')\n",
    "Student_ID.extend('Surendra')\n",
    "Student_ID.remove('School')\n",
    "Student_ID.remove('289580')\n",
    "Student_ID.remove('S')\n",
    "Student_ID.remove('u')\n",
    "Student_ID.remove('r')\n",
    "Student_ID.remove('e')\n",
    "Student_ID.remove('n')\n",
    "Student_ID.remove('d')\n",
    "Student_ID.remove('r')\n",
    "Student_ID.remove('a')\n",
    "\n",
    "print(Student_ID)"
   ]
  },
  {
   "cell_type": "code",
   "execution_count": 56,
   "id": "50a40aa7-9d8d-4206-bdc1-eacafaebfa03",
   "metadata": {},
   "outputs": [
    {
     "name": "stdout",
     "output_type": "stream",
     "text": [
      "['University of Mary', 'Hamm school of emgineering', 'CSC106', '3', 'A', 'Jose Garcia', 'North Dakota', 'jigmaya@gmail.com', '7014986998']\n",
      "('University of Mary', 'Hamm school of emgineering', 'CSC106', '3', 'A', 'Jose Garcia', 'North Dakota', 'jigmaya@gmail.com', '7014986998')\n"
     ]
    },
    {
     "data": {
      "text/plain": [
       "tuple"
      ]
     },
     "execution_count": 56,
     "metadata": {},
     "output_type": "execute_result"
    }
   ],
   "source": [
    "Student_Personal = ('Jose Garcia', 'North Dakota', 'jigmaya@gmail.com', '7014986998')\n",
    "\n",
    "School= 'University of Mary'\n",
    "Department= 'Hamm school of emgineering'\n",
    "Class = 'CSC106'\n",
    "Credits = '3'\n",
    "Grade = 'A'\n",
    "Student_Academic = [School, Department, Class, Credits, Grade]\n",
    "\n",
    "Student_Academic.extend(Student_Personal)\n",
    "print(Student_Academic)\n",
    "\n",
    "type(Student_Academic[5])\n",
    "Tuple_Academic = tuple(Student_Academic)\n",
    "print(Tuple_Academic)\n",
    "type(Tuple_Academic)"
   ]
  }
 ],
 "metadata": {
  "kernelspec": {
   "display_name": "Python 3 (ipykernel)",
   "language": "python",
   "name": "python3"
  },
  "language_info": {
   "codemirror_mode": {
    "name": "ipython",
    "version": 3
   },
   "file_extension": ".py",
   "mimetype": "text/x-python",
   "name": "python",
   "nbconvert_exporter": "python",
   "pygments_lexer": "ipython3",
   "version": "3.10.12"
  }
 },
 "nbformat": 4,
 "nbformat_minor": 5
}
